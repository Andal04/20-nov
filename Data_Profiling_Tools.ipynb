{
 "cells": [
  {
   "cell_type": "markdown",
   "id": "979158f9-38ed-421f-a767-0739453a621f",
   "metadata": {},
   "source": [
    "### Data Profiling:\n",
    "- EDA automation.\n",
    "- EDA - Exploratory Data Analysis\n",
    "- Presents you insights\n",
    "- Present/warn/alerts about potential outliers, duplicates, unclean data, abnormalities\n",
    "#### Sweetviz, Autoviz, y-data profiling\n",
    "- Lux, dataprep"
   ]
  },
  {
   "cell_type": "code",
   "execution_count": null,
   "id": "5ec1203f-4f64-44ee-8ef1-1b47fda24d33",
   "metadata": {},
   "outputs": [],
   "source": [
    "import seaborn as sns\n",
    "#sns.get_dataset_names()"
   ]
  },
  {
   "cell_type": "code",
   "execution_count": null,
   "id": "cb214008-5e93-423c-8468-d78fe5ec24f9",
   "metadata": {},
   "outputs": [],
   "source": [
    "data = sns.load_dataset('titanic')"
   ]
  },
  {
   "cell_type": "code",
   "execution_count": null,
   "id": "3996faf4-5a9d-4930-a74b-df9ff6c239f7",
   "metadata": {},
   "outputs": [],
   "source": [
    "data"
   ]
  },
  {
   "cell_type": "code",
   "execution_count": null,
   "id": "c43bc47b-9b35-4242-9ef1-f836bf557ebb",
   "metadata": {},
   "outputs": [],
   "source": [
    "pip install autoviz"
   ]
  },
  {
   "cell_type": "code",
   "execution_count": null,
   "id": "be817506-52a5-4745-af0e-6b5e11a3cca2",
   "metadata": {},
   "outputs": [],
   "source": [
    "from autoviz.AutoViz_Class import AutoViz_Class\n",
    "AV = AutoViz_Class()\n",
    "%matplotlib inline\n",
    "dfte = AV.AutoViz(data,chart_format='html')\n",
    "\n",
    "#dfte = AV.AutoViz(data, sep=',', depVar='', dfte=None, header=0, verbose=1, lowess=False,chart_format='svg',max_rows_analyzed=150000,max_cols_analyzed=30, save_plot_dir=None)"
   ]
  },
  {
   "cell_type": "code",
   "execution_count": null,
   "id": "0676c2eb-40bd-49ac-8e3d-8c755e74a1ca",
   "metadata": {},
   "outputs": [],
   "source": [
    "#!pip install sweetviz\n",
    "import sweetviz as sv\n",
    "my_report = sv.analyze(data)\n",
    "my_report.show_html()"
   ]
  },
  {
   "cell_type": "code",
   "execution_count": null,
   "id": "9c43ba0e-545b-4bdb-86cc-ffa2e0be9674",
   "metadata": {},
   "outputs": [],
   "source": [
    "#!pip install ydata-profiling"
   ]
  },
  {
   "cell_type": "code",
   "execution_count": null,
   "id": "cecfa726-065d-4fa3-8880-2e0dcc7cd1de",
   "metadata": {},
   "outputs": [],
   "source": [
    "from ydata_profiling import ProfileReport\n",
    "profile = ProfileReport(data,title='Ydata_profiling_analysis',explorative=False)"
   ]
  },
  {
   "cell_type": "code",
   "execution_count": null,
   "id": "cfe74901-3d76-42a9-ac9f-036ad4709cd3",
   "metadata": {},
   "outputs": [],
   "source": [
    "profile"
   ]
  },
  {
   "cell_type": "code",
   "execution_count": null,
   "id": "ef4e8ced-7684-44a9-9d3e-04b6ec589fca",
   "metadata": {},
   "outputs": [],
   "source": []
  }
 ],
 "metadata": {
  "kernelspec": {
   "display_name": "Python 3 (ipykernel)",
   "language": "python",
   "name": "python3"
  },
  "language_info": {
   "codemirror_mode": {
    "name": "ipython",
    "version": 3
   },
   "file_extension": ".py",
   "mimetype": "text/x-python",
   "name": "python",
   "nbconvert_exporter": "python",
   "pygments_lexer": "ipython3",
   "version": "3.12.4"
  }
 },
 "nbformat": 4,
 "nbformat_minor": 5
}
